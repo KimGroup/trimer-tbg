{
 "cells": [
  {
   "cell_type": "code",
   "execution_count": 6,
   "metadata": {},
   "outputs": [],
   "source": [
    "import numpy as np\n",
    "def compose(x):\n",
    "\treturn x[0] * 8 + x[1] * 4 + x[2] * 2 + x[3] * 1\n",
    "def decompose(x):\n",
    "\treturn [x // 8 % 2 == 1, x // 4 % 2 == 1, x // 2 % 2 == 1, x % 2 == 1]\n",
    "def flip(x, i):\n",
    "\treturn [not x[0] if 0 in i else x[0], not x[1] if 1 in i else x[1], not x[2] if 2 in i else x[2], not x[3] if 3 in i else x[3]]\n",
    "\n",
    "def row(x):\n",
    "\td = decompose(x)\n",
    "\tret = [\"0\"] * 16\n",
    "\tif d[0] == d[2]:\n",
    "\t\tif d[1] == d[3]:\n",
    "\t\t\tret[x] = '-2 r Conjugate[r]'\n",
    "\t\t\tret[compose(flip(d, [0,2]))] = '2 r^2' if d[0] else '2 Conjugate[r]^2'\n",
    "\t\telse:\n",
    "\t\t\tret[x] = '-2 r Conjugate[r] - 2 a Conjugate[a]'\n",
    "\t\t\tret[compose(flip(d, [1,3]))] = '2 a Conjugate[a]'\n",
    "\t\t\tret[compose(flip(d, [0,1,2,3]))] = '2 r^2' if d[0] else '2 Conjugate[r]^2'\n",
    "\telse:\n",
    "\t\tif d[1] == d[3]:\n",
    "\t\t\tret[x] = '-2 a Conjugate[a]'\n",
    "\t\t\tret[compose(flip(d, [0,2]))] = '2 a^2' if d[0] else '2 Conjugate[a]^2'\n",
    "\t\telse:\n",
    "\t\t\tret[x] = '-2 r Conjugate[r] - 2 a Conjugate[a]'\n",
    "\t\t\tret[compose(flip(d, [1,3]))] = '2 r Conjugate[r]'\n",
    "\t\t\tret[compose(flip(d, [0,1,2,3]))] = '2 a^2' if d[0] else '2 Conjugate[a]^2'\n",
    "\treturn ret\n",
    "\n",
    "r = 0.0464+0.0831j\n",
    "a = -0.0034-0.0007j\n",
    "def row2(x):\n",
    "\td = decompose(x)\n",
    "\tret = [0] * 16\n",
    "\tif d[0] == d[2]:\n",
    "\t\tif d[1] == d[3]:\n",
    "\t\t\tret[x] = -2 * r * np.conj(r)\n",
    "\t\t\tret[compose(flip(d, [0,2]))] = 2 * r * r if d[0] else 2 * np.conj(r) * np.conj(r)\n",
    "\t\telse:\n",
    "\t\t\tret[x] = -2 * r * np.conj(r) - 2 * a * np.conj(a)\n",
    "\t\t\tret[compose(flip(d, [1,3]))] = 2 * a * np.conj(a)\n",
    "\t\t\tret[compose(flip(d, [0,1,2,3]))] = 2 * r * r if d[0] else 2 * np.conj(r) * np.conj(r)\n",
    "\telse:\n",
    "\t\tif d[1] == d[3]:\n",
    "\t\t\tret[x] = -2 * a * np.conj(a)\n",
    "\t\t\tret[compose(flip(d, [0,2]))] = 2 * a * a if d[0] else 2 * np.conj(a) * np.conj(a)\n",
    "\t\telse:\n",
    "\t\t\tret[x] = -2 * r * np.conj(r) - 2 * a * np.conj(a)\n",
    "\t\t\tret[compose(flip(d, [1,3]))] = 2 * r * np.conj(r)\n",
    "\t\t\tret[compose(flip(d, [0,1,2,3]))] = 2 * a * a if d[0] else 2 * np.conj(a) * np.conj(a)\n",
    "\treturn ret\n",
    "\n",
    "\t\n",
    "\n",
    "mat = map(row, range(16))\n",
    "mat2 = np.array(list(map(row2, range(16))))"
   ]
  },
  {
   "cell_type": "code",
   "execution_count": 16,
   "metadata": {},
   "outputs": [
    {
     "name": "stdout",
     "output_type": "stream",
     "text": [
      "{{-2 r Conjugate[r],0,0,0,0,0,0,0,0,0,2 Conjugate[r]^2,0,0,0,0,0},{0,-2 r Conjugate[r] - 2 a Conjugate[a],0,0,2 a Conjugate[a],0,0,0,0,0,0,0,0,0,2 Conjugate[r]^2,0},{0,0,-2 a Conjugate[a],0,0,0,0,0,2 Conjugate[a]^2,0,0,0,0,0,0,0},{0,0,0,-2 r Conjugate[r] - 2 a Conjugate[a],0,0,2 r Conjugate[r],0,0,0,0,0,2 Conjugate[a]^2,0,0,0},{0,2 a Conjugate[a],0,0,-2 r Conjugate[r] - 2 a Conjugate[a],0,0,0,0,0,0,2 Conjugate[r]^2,0,0,0,0},{0,0,0,0,0,-2 r Conjugate[r],0,0,0,0,0,0,0,0,0,2 Conjugate[r]^2},{0,0,0,2 r Conjugate[r],0,0,-2 r Conjugate[r] - 2 a Conjugate[a],0,0,2 Conjugate[a]^2,0,0,0,0,0,0},{0,0,0,0,0,0,0,-2 a Conjugate[a],0,0,0,0,0,2 Conjugate[a]^2,0,0},{0,0,2 a^2,0,0,0,0,0,-2 a Conjugate[a],0,0,0,0,0,0,0},{0,0,0,0,0,0,2 a^2,0,0,-2 r Conjugate[r] - 2 a Conjugate[a],0,0,2 r Conjugate[r],0,0,0},{2 r^2,0,0,0,0,0,0,0,0,0,-2 r Conjugate[r],0,0,0,0,0},{0,0,0,0,2 r^2,0,0,0,0,0,0,-2 r Conjugate[r] - 2 a Conjugate[a],0,0,2 a Conjugate[a],0},{0,0,0,2 a^2,0,0,0,0,0,2 r Conjugate[r],0,0,-2 r Conjugate[r] - 2 a Conjugate[a],0,0,0},{0,0,0,0,0,0,0,2 a^2,0,0,0,0,0,-2 a Conjugate[a],0,0},{0,2 r^2,0,0,0,0,0,0,0,0,0,2 a Conjugate[a],0,0,-2 r Conjugate[r] - 2 a Conjugate[a],0},{0,0,0,0,0,2 r^2,0,0,0,0,0,0,0,0,0,-2 r Conjugate[r]}}\n"
     ]
    }
   ],
   "source": [
    "print(\"{\" + \",\".join(map(lambda x: \"{\" + \",\".join(x) + \"}\", mat)) + \"}\")"
   ]
  },
  {
   "cell_type": "code",
   "execution_count": 14,
   "metadata": {},
   "outputs": [
    {
     "data": {
      "text/plain": [
       "      fun: -0.018117918061262256\n",
       " hess_inv: array([[ 30.52371188, -14.80743993, -44.3311977 , -14.79725581,\n",
       "         29.5237172 , -14.80743985, -44.33119765, -14.79725581],\n",
       "       [-14.80743993,   8.42631558,  22.23377852,   7.42120805,\n",
       "        -14.8074426 ,   7.42631555,  22.2337785 ,   7.42120805],\n",
       "       [-44.3311977 ,  22.23377852,  67.56504512,  22.21848685,\n",
       "        -44.33120569,  22.23377841,  66.56504505,  22.21848685],\n",
       "       [-14.79725581,   7.42120805,  22.21848685,   8.41610402,\n",
       "        -14.79725848,   7.42120801,  22.21848682,   7.41610402],\n",
       "       [ 29.5237172 , -14.8074426 , -44.33120569, -14.79725848,\n",
       "         30.52372253, -14.80744252, -44.33120564, -14.79725848],\n",
       "       [-14.80743985,   7.42631555,  22.23377841,   7.42120801,\n",
       "        -14.80744252,   8.42631551,  22.23377838,   7.42120801],\n",
       "       [-44.33119765,  22.2337785 ,  66.56504505,  22.21848682,\n",
       "        -44.33120564,  22.23377838,  67.56504497,  22.21848682],\n",
       "       [-14.79725581,   7.42120805,  22.21848685,   7.41610402,\n",
       "        -14.79725848,   7.42120801,  22.21848682,   8.41610402]])\n",
       "      jac: array([ 1.70385465e-06, -2.33948231e-06, -3.78140248e-06, -2.76160426e-06,\n",
       "        1.70385465e-06, -2.33924948e-06, -3.78070399e-06, -2.76137143e-06])\n",
       "  message: 'Optimization terminated successfully.'\n",
       "     nfev: 63\n",
       "      nit: 3\n",
       "     njev: 7\n",
       "   status: 0\n",
       "  success: True\n",
       "        x: array([ 1.3417481 ,  0.8285367 , -0.51321181,  0.82865445,  1.34174817,\n",
       "        0.8285367 , -0.51321181,  0.82865445])"
      ]
     },
     "execution_count": 14,
     "metadata": {},
     "output_type": "execute_result"
    }
   ],
   "source": [
    "import scipy\n",
    "import scipy.optimize\n",
    "\n",
    "def fun(x):\n",
    "\tv = np.outer(x[:4] / np.linalg.norm(x[:4]), x[4:] / np.linalg.norm(x[4:])).flatten()\n",
    "\treturn v @ mat2 @ v\n",
    "scipy.optimize.minimize(fun, [1, 1, 0, 1, 1, 1, 0, 1])"
   ]
  },
  {
   "cell_type": "code",
   "execution_count": 15,
   "metadata": {},
   "outputs": [
    {
     "data": {
      "text/plain": [
       "      fun: (-0.018117139999999997+0j)\n",
       " hess_inv: array([[1, 0, 0, 0, 0, 0, 0, 0],\n",
       "       [0, 1, 0, 0, 0, 0, 0, 0],\n",
       "       [0, 0, 1, 0, 0, 0, 0, 0],\n",
       "       [0, 0, 0, 1, 0, 0, 0, 0],\n",
       "       [0, 0, 0, 0, 1, 0, 0, 0],\n",
       "       [0, 0, 0, 0, 0, 1, 0, 0],\n",
       "       [0, 0, 0, 0, 0, 0, 1, 0],\n",
       "       [0, 0, 0, 0, 0, 0, 0, 1]])\n",
       "      jac: array([ 0.00000000e+00, -2.32830644e-10,  0.00000000e+00, -2.32830644e-10,\n",
       "        0.00000000e+00, -2.32830644e-10,  0.00000000e+00, -2.32830644e-10])\n",
       "  message: 'Optimization terminated successfully.'\n",
       "     nfev: 9\n",
       "      nit: 0\n",
       "     njev: 1\n",
       "   status: 0\n",
       "  success: True\n",
       "        x: array([1., 0., 0., 0., 1., 0., 0., 0.])"
      ]
     },
     "execution_count": 15,
     "metadata": {},
     "output_type": "execute_result"
    }
   ],
   "source": [
    "scipy.optimize.minimize(fun, [1, 0, 0, 0, 1, 0, 0, 0])"
   ]
  },
  {
   "cell_type": "code",
   "execution_count": 9,
   "metadata": {},
   "outputs": [
    {
     "name": "stdout",
     "output_type": "stream",
     "text": [
      "0.018118119999999998\n",
      "0.018141239999999996\n"
     ]
    }
   ],
   "source": [
    "print((2 * np.abs(-0.0464 + 0.0831j) ** 2 + 2 * np.imag(-0.0034-0.0007j)**2))\n",
    "print((2 * np.abs(-0.0464 + 0.0831j) ** 2 + 2 * np.abs(-0.0034-0.0007j)**2))"
   ]
  },
  {
   "cell_type": "code",
   "execution_count": 10,
   "metadata": {},
   "outputs": [
    {
     "name": "stdout",
     "output_type": "stream",
     "text": [
      "0.0075205\n",
      "0.007530180000000001\n"
     ]
    }
   ],
   "source": [
    "print((2 * np.abs(-0.0130-0.0599j) ** 2 + 2 * np.imag(0.0022-0.0018j)**2))\n",
    "print((2 * np.abs(-0.0130-0.0599j) ** 2 + 2 * np.abs(0.0022-0.0018j)**2))"
   ]
  },
  {
   "cell_type": "code",
   "execution_count": 11,
   "metadata": {},
   "outputs": [
    {
     "data": {
      "text/plain": [
       "1.2049999994245227e-05"
      ]
     },
     "execution_count": 11,
     "metadata": {},
     "output_type": "execute_result"
    }
   ],
   "source": [
    "e = -0.5 + 0.866025404j;\n",
    "es = -0.5 - 0.866025404j;\n",
    "\n",
    "2*np.abs(-0.0034-0.0007j)**2 - 2/3 * (np.imag(-0.0034-0.0007j)**2 + np.imag(e*(-0.0034-0.0007j))**2 + np.imag(es*(-0.0034-0.0007j))**2)"
   ]
  },
  {
   "cell_type": "code",
   "execution_count": 12,
   "metadata": {},
   "outputs": [
    {
     "data": {
      "text/plain": [
       "1.205000000024393e-05"
      ]
     },
     "execution_count": 12,
     "metadata": {},
     "output_type": "execute_result"
    }
   ],
   "source": [
    "2/3 * (np.real(-0.0034-0.0007j)**2 + np.real(e*(-0.0034-0.0007j))**2 + np.real(es*(-0.0034-0.0007j))**2)"
   ]
  },
  {
   "cell_type": "code",
   "execution_count": 13,
   "metadata": {},
   "outputs": [
    {
     "data": {
      "text/plain": [
       "8.079999997590565e-06"
      ]
     },
     "execution_count": 13,
     "metadata": {},
     "output_type": "execute_result"
    }
   ],
   "source": [
    "2*np.abs(0.0022-0.0018j)**2 - 2/3 * (np.imag(0.0022-0.0018j)**2 + np.imag(e*(0.0022-0.0018j))**2 + np.imag(es*(0.0022-0.0018j))**2)"
   ]
  },
  {
   "cell_type": "code",
   "execution_count": 8,
   "metadata": {},
   "outputs": [
    {
     "data": {
      "text/plain": [
       "3.9700000026533655e-06"
      ]
     },
     "execution_count": 8,
     "metadata": {},
     "output_type": "execute_result"
    }
   ],
   "source": [
    "2/3 * (np.real(-0.0034-0.0007j)**2 + np.real(e*(-0.0034-0.0007j))**2 + np.real(es*(-0.0034-0.0007j))**2) - (2*np.abs(0.0022-0.0018j)**2 - 2/3 * (np.imag(0.0022-0.0018j)**2 + np.imag(e*(0.0022-0.0018j))**2 + np.imag(es*(0.0022-0.0018j))**2))"
   ]
  },
  {
   "cell_type": "code",
   "execution_count": null,
   "metadata": {},
   "outputs": [],
   "source": []
  }
 ],
 "metadata": {
  "interpreter": {
   "hash": "916dbcbb3f70747c44a77c7bcd40155683ae19c65e1c03b4aa3499c5328201f1"
  },
  "kernelspec": {
   "display_name": "Python 3.8.10 64-bit",
   "language": "python",
   "name": "python3"
  },
  "language_info": {
   "codemirror_mode": {
    "name": "ipython",
    "version": 3
   },
   "file_extension": ".py",
   "mimetype": "text/x-python",
   "name": "python",
   "nbconvert_exporter": "python",
   "pygments_lexer": "ipython3",
   "version": "3.6.8"
  },
  "orig_nbformat": 4
 },
 "nbformat": 4,
 "nbformat_minor": 2
}
